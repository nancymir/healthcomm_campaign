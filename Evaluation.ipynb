{
 "cells": [
  {
   "cell_type": "markdown",
   "id": "3615ea7f-93ae-450f-b843-80798c808025",
   "metadata": {},
   "source": [
    "# Video Evaluation "
   ]
  },
  {
   "cell_type": "code",
   "execution_count": 1,
   "id": "b334b3a7-add7-48fb-95a9-528840919a34",
   "metadata": {},
   "outputs": [],
   "source": [
    "from openai import OpenAI\n",
    "import os\n",
    "import pandas as pd"
   ]
  },
  {
   "cell_type": "code",
   "execution_count": 24,
   "id": "0628859a-ab1e-4f20-91a6-98e569de6665",
   "metadata": {},
   "outputs": [],
   "source": [
    "apikey = open('.apikey').read().strip()\n",
    "os.environ['OPENAI_API_KEY'] = apikey"
   ]
  }
 ],
 "metadata": {
  "citation-manager": {
   "items": {}
  },
  "kernelspec": {
   "display_name": "Python 3.11 (COMM4190)",
   "language": "python",
   "name": "comm4190"
  },
  "language_info": {
   "codemirror_mode": {
    "name": "ipython",
    "version": 3
   },
   "file_extension": ".py",
   "mimetype": "text/x-python",
   "name": "python",
   "nbconvert_exporter": "python",
   "pygments_lexer": "ipython3",
   "version": "3.11.7"
  }
 },
 "nbformat": 4,
 "nbformat_minor": 5
}

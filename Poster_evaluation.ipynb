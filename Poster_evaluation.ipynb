{
 "cells": [
  {
   "cell_type": "markdown",
   "id": "53c2397d-d101-4fbe-9c9d-685bf7d77ed5",
   "metadata": {},
   "source": []
  },
  {
   "cell_type": "markdown",
   "id": "e88d8781-5c59-4ca9-af1b-9a9f1e84cc4b",
   "metadata": {},
   "source": [
    "## Process of evaluating our poster and the words that would go on the poster \n",
    "\n",
    "We started off by using chat GPT 3.5 with :\n",
    "\n",
    "system_role = \"You're a health proessional with vast knowledge on hydration\"\n",
    "initial_prompt = '''come up with most important things for a hydration campain'''\n",
    "\n",
    "# Response\n",
    "Hydration Campaign: Key Components\n",
    "\n",
    "Education on Hydration Importance: Clearly communicate the significance of hydration for overall health and well-being. Highlight how proper hydration impacts various bodily functions, from cognitive performance to physical endurance.\n",
    "Water Consumption Guidelines: Provide easy-to-understand guidelines on daily water intake tailored to different age groups, activity levels, and environmental conditions. Emphasize the importance of listening to one's body and recognizing signs of dehydration.\n",
    "Hydration Myths Debunking: Address common misconceptions surrounding hydration, such as relying solely on thirst as an indicator of hydration status or the belief that only strenuous exercise requires increased fluid intake.\n",
    "Encouraging Water Consumption Habits: Offer practical tips and strategies to incorporate more water into daily routines, such as keeping a water bottle handy, setting hydration reminders, and flavoring water with fruits or herbs for added enjoyment.\n",
    "Promotion of Balanced Electrolyte Intake: Highlight the role of electrolytes in hydration and encourage the consumption of electrolyte-rich foods and beverages, particularly for individuals engaged in prolonged physical activity or exposed to extreme heat.\n",
    "Awareness of Hydration Sources: Educate on the various sources of hydration beyond plain water, including fruits, vegetables, herbal teas, and broths, to diversify fluid intake and enhance overall nutrient intake.\n",
    "Hydration and Medical Conditions: Provide guidance for individuals with specific medical conditions that may impact hydration needs, such as diabetes, kidney disease, or gastrointestinal disorders, ensuring they manage hydration effectively under medical supervision.\n",
    "Environmental Impact of Hydration Choices: Raise awareness of the environmental consequences of single-use plastic bottles and promote eco-friendly alternatives such as reusable bottles and water filtration systems.\n",
    "Community Engagement and Support: Foster a sense of community around hydration goals through social media campaigns, challenges, and local events. Encourage peer support and accountability in maintaining healthy hydration habits.\n",
    "Continuous Monitoring and Evaluation: Implement mechanisms to track the effectiveness of the hydration campaign, such as surveys, hydration assessments, and monitoring hydration-related health outcomes, to refine strategies and ensure long-term success.\n",
    "By integrating these key components into a comprehensive hydration campaign, we can empower individuals to prioritize hydration as a fundamental aspect of their daily health routine, leading to improved overall well-being and performance.\n"
   ]
  },
  {
   "cell_type": "markdown",
   "id": "be96a786-0081-4110-a3f8-13865b36eb0b",
   "metadata": {},
   "source": [
    "Then again we asked a similar set of questions: \n",
    "\n",
    "come up with most important things for a hydration campaign "
   ]
  }
 ],
 "metadata": {
  "citation-manager": {
   "items": {}
  },
  "kernelspec": {
   "display_name": "Python 3.8",
   "language": "python",
   "name": "python3"
  },
  "language_info": {
   "codemirror_mode": {
    "name": "ipython",
    "version": 3
   },
   "file_extension": ".py",
   "mimetype": "text/x-python",
   "name": "python",
   "nbconvert_exporter": "python",
   "pygments_lexer": "ipython3",
   "version": "3.8.8"
  }
 },
 "nbformat": 4,
 "nbformat_minor": 5
}

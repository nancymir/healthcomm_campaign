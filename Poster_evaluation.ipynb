{
 "cells": [
  {
   "cell_type": "markdown",
   "id": "2df95e5f-96fa-46f9-b0b8-f9ac2fd07021",
   "metadata": {},
   "source": [
    "### Poster Evaluation "
   ]
  },
  {
   "cell_type": "markdown",
   "id": "420d1397-8f3f-4fa9-a497-1b3e5f3a77c2",
   "metadata": {},
   "source": [
    "# Explanation \n",
    "\n",
    "For the evaluation of our poster we wanted the poster camptions to be evaluated by chat GPT 3.5. By doing this we had to first give it prompt about what information would come up on a hydration campaign, then repeated that process multiple times of making it give us information for a hydration campaign. Then with that information we asked it to score the information that would go on a poster: \n",
    "\n",
    "On a scale from 1-5, 1 being not informational to 5 being very very well informed. how would you rate the information below that would be on an informational poster about staying hydrated. \n",
    "\n",
    "* \t\tHydration Vital for Health!\n",
    "* \t\tDrink 8-10 Cups Daily!\n",
    "Join Us, Stay Hydrated Together!\n",
    "\n",
    "Importance of Hydration: \"Did you know? Staying hydrated is vital for your health! Water helps regulate body temperature, cushion joints, and aids in digestion. Stay refreshed to feel your best!\"\n",
    "Recognizing Dehydration: \"Don't ignore the signs! Symptoms of dehydration include thirst, dry mouth, fatigue, dizziness, and dark urine. Act fast to replenish fluids!\"\n",
    "\n",
    "# Response \n",
    "\n",
    "Based on the provided information, here's a rating for each point:\n",
    "\n",
    "Hydration Vital for Health!\n",
    "Rating: 4\n",
    "This statement effectively conveys the importance of hydration for health, but it could benefit from a bit more detail to fully inform the reader.\n",
    "Drink 8-10 Cups Daily!\n",
    "Rating: 3\n",
    "While this provides a specific recommendation for daily fluid intake, it's a bit simplistic and could be improved with additional context or information about factors that influence hydration needs.\n",
    "Join Us, Stay Hydrated Together!\n",
    "Rating: 2\n",
    "This statement encourages community engagement but lacks specific information about how to stay hydrated or why it's important, making it less informative.\n",
    "Importance of Hydration: \"Did you know? Staying hydrated is vital for your health! Water helps regulate body temperature, cushion joints, and aids in digestion. Stay refreshed to feel your best!\"\n",
    "Rating: 5\n",
    "This statement provides detailed information about why hydration is important for health, including specific benefits, which is highly informative and engaging for the reader.\n",
    "Recognizing Dehydration: \"Don't ignore the signs! Symptoms of dehydration include thirst, dry mouth, fatigue, dizziness, and dark urine. Act fast to replenish fluids!\"\n",
    "Rating: 5\n",
    "This statement effectively educates readers about the signs and symptoms of dehydration and emphasizes the importance of taking action to prevent it, making it very informative.\n",
    "Overall, the information provided is informative, but some points could be enhanced with additional detail or context to fully inform the reader."
   ]
  },
  {
   "cell_type": "markdown",
   "id": "98670547-1a0e-4d15-8873-3fbb73bc5728",
   "metadata": {},
   "source": [
    "# Adjustments to how to evaluate \n",
    "What would the overall score for the information overall:\n",
    "\n",
    "Response: So, the overall score for the information is approximately 3.8 out of 5. This indicates that the information is generally informative but could benefit from some improvements or additional details to enhance its effectiveness further.\n",
    "\n",
    "Based on the score it gave we wanted to make adjustments to the poster so we prompted: \n",
    "How would I increase the rating by adding some points could be enhanced with additional detail or context to fully inform the reader.\n",
    "\n",
    "Response:\n",
    "To increase the rating and enhance the informational value of the points, you could consider adding more detail or context to certain aspects. Here are some suggestions for each point:\n",
    "Hydration Vital for Health!\n",
    "\n",
    "Add specific examples or statistics about how hydration impacts different aspects of health, such as cognitive function, metabolism, and organ function.\n",
    "Drink 8-10 Cups Daily!\n",
    "\n",
    "Provide additional information about factors that influence fluid needs, such as age, weight, activity level, climate, and health conditions.\n",
    "\n",
    "Clarify that fluid intake can come from various sources, including water, beverages, and water-rich foods.\n",
    "Join Us, Stay Hydrated Together!\n",
    "\n",
    "Include details about hydration-related events, workshops, or resources available for community members to participate in.\n",
    "\n",
    "Highlight success stories or testimonials from individuals who have improved their hydration habits through community engagement.\n",
    "\n",
    "Importance of Hydration: \"Did you know? Staying hydrated is vital for your health! Water helps regulate body temperature, cushion joints, and aids in digestion. Stay refreshed to feel your best!\"\n",
    "\n",
    "Expand on each benefit of hydration with specific examples or explanations to illustrate how water contributes to each aspect of health.\n",
    "\n",
    "Include references to scientific studies or reputable sources to support the claims about the benefits of hydration.\n",
    "\n",
    "Recognizing Dehydration: \"Don't ignore the signs! Symptoms of dehydration include thirst, dry mouth, fatigue, dizziness, and dark urine. Act fast to replenish fluids!\"\n",
    "\n",
    "Provide additional information about the consequences of dehydration, such as impaired cognitive function, reduced physical performance, and increased risk of heat-related illnesses.\n",
    "\n",
    "Offer practical tips for preventing dehydration, such as drinking fluids regularly throughout the day, especially during physical activity or in hot weather.\n",
    "\n",
    "By incorporating these suggestions, you can add depth and clarity to the information provided, making it more comprehensive and informative for the reader, thus increasing the overall rating of the information."
   ]
  }
 ],
 "metadata": {
  "citation-manager": {
   "items": {}
  },
  "kernelspec": {
   "display_name": "Python 3.8",
   "language": "python",
   "name": "python3"
  },
  "language_info": {
   "codemirror_mode": {
    "name": "ipython",
    "version": 3
   },
   "file_extension": ".py",
   "mimetype": "text/x-python",
   "name": "python",
   "nbconvert_exporter": "python",
   "pygments_lexer": "ipython3",
   "version": "3.8.8"
  }
 },
 "nbformat": 4,
 "nbformat_minor": 5
}

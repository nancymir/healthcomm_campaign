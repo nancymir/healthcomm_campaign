{
 "cells": [
  {
   "cell_type": "markdown",
   "id": "53c2397d-d101-4fbe-9c9d-685bf7d77ed5",
   "metadata": {},
   "source": []
  },
  {
   "cell_type": "markdown",
   "id": "81d7169b-6da3-4412-a117-c4fcaad44f3f",
   "metadata": {},
   "source": [
    "# Health Communication Messaging Campaign: Poster Making"
   ]
  },
  {
   "cell_type": "code",
   "execution_count": null,
   "id": "53eda9da-1c58-4855-b2cd-81f779892a77",
   "metadata": {},
   "outputs": [],
   "source": [
    "from openai import OpenAI\n",
    "import os\n",
    "import pandas as pd\n",
    "import requests"
   ]
  },
  {
   "cell_type": "markdown",
   "id": "80391d35-576a-44d6-9342-2e473169204a",
   "metadata": {},
   "source": [
    "### apikey"
   ]
  },
  {
   "cell_type": "code",
   "execution_count": null,
   "id": "f57175ff-926f-46bf-a2fc-25316f1b6a13",
   "metadata": {},
   "outputs": [],
   "source": [
    "apikey = open('.apikey').read().strip()\n",
    "os.environ['OPENAI_API_KEY'] = apikey"
   ]
  },
  {
   "cell_type": "markdown",
   "id": "a4b1821e-aac9-41db-8cbd-ec529b1d1603",
   "metadata": {},
   "source": [
    "### gpt setup"
   ]
  },
  {
   "cell_type": "code",
   "execution_count": null,
   "id": "4eb61606-333f-4f44-8926-6735fa451f5b",
   "metadata": {},
   "outputs": [],
   "source": [
    "from openai import OpenAI\n",
    "client = OpenAI()\n",
    "\n",
    "response = client.images.generate(\n",
    "    model=\"dall-e-3\",\n",
    "    prompt= '''\n",
    "\n",
    "Generate a informational poster about the importance of staying hydrated \n",
    "\n",
    "    ''',\n",
    "    size=\"1024x1792\",\n",
    "    quality=\"standard\",\n",
    "    n=1,\n",
    ")\n",
    "image_url = response.data[0].url"
   ]
  },
  {
   "cell_type": "code",
   "execution_count": null,
   "id": "4d9684c9-2e21-47fa-9270-274928c03551",
   "metadata": {},
   "outputs": [],
   "source": [
    "image_url"
   ]
  },
  {
   "cell_type": "code",
   "execution_count": null,
   "id": "e7c061eb-e33b-4f01-940b-6867f1456cb5",
   "metadata": {},
   "outputs": [],
   "source": [
    "from openai import OpenAI\n",
    "client = OpenAI()\n",
    "\n",
    "response = client.images.generate(\n",
    "    model=\"dall-e-3\",\n",
    "    prompt= '''\n",
    "\n",
    "Generate a informational poster about the importance of staying hydrated that doesnt have an overwelming amount of information\n",
    "\n",
    "    ''',\n",
    "    size=\"1024x1792\",\n",
    "    quality=\"standard\",\n",
    "    n=1,\n",
    ")\n",
    "image_url = response.data[0].url"
   ]
  },
  {
   "cell_type": "code",
   "execution_count": null,
   "id": "5ed1cf24-d37a-4012-be1b-f3fb08c57eac",
   "metadata": {},
   "outputs": [],
   "source": [
    "image_url"
   ]
  },
  {
   "cell_type": "code",
   "execution_count": null,
   "id": "1b801ca7-1a6a-4ebc-a833-e3e3b987e8b4",
   "metadata": {},
   "outputs": [],
   "source": [
    "from openai import OpenAI\n",
    "client = OpenAI()\n",
    "\n",
    "response = client.images.generate(\n",
    "    model=\"dall-e-3\",\n",
    "    prompt= '''\n",
    "\n",
    "Generate a informational poster about the importance of staying hydrated without words \n",
    "\n",
    "    ''',\n",
    "    size=\"1024x1792\",\n",
    "    quality=\"standard\",\n",
    "    n=1,\n",
    ")\n",
    "image_url = response.data[0].url"
   ]
  },
  {
   "cell_type": "code",
   "execution_count": null,
   "id": "cc731bdb-c764-45d7-8c65-40d0a7cbe928",
   "metadata": {},
   "outputs": [],
   "source": [
    "image_url"
   ]
  },
  {
   "cell_type": "code",
   "execution_count": null,
   "id": "6ce11a1f-78d4-4ed7-b4db-ee2eced74bf2",
   "metadata": {},
   "outputs": [],
   "source": [
    "from openai import OpenAI\n",
    "client = OpenAI()\n",
    "\n",
    "response = client.images.generate(\n",
    "    model=\"dall-e-3\",\n",
    "    prompt= '''\n",
    "\n",
    "Generate a informational poster about the importance of staying hydrated based on what the cdc says on benefits of drinking water \n",
    "\n",
    "    ''',\n",
    "    size=\"1024x1792\",\n",
    "    quality=\"standard\",\n",
    "    n=1,\n",
    ")\n",
    "image_url = response.data[0].url"
   ]
  },
  {
   "cell_type": "code",
   "execution_count": null,
   "id": "0b83a21b-5ba2-408b-ad7b-ab67a2fc196d",
   "metadata": {},
   "outputs": [],
   "source": [
    "image_url"
   ]
  },
  {
   "cell_type": "code",
   "execution_count": null,
   "id": "446f9841-6fd7-4706-a78f-15c39f22395f",
   "metadata": {},
   "outputs": [],
   "source": [
    "from openai import OpenAI\n",
    "client = OpenAI()\n",
    "\n",
    "response = client.images.generate(\n",
    "    model=\"dall-e-3\",\n",
    "    prompt= '''\n",
    "\n",
    "Generate a informational poster about the importance of staying hydrated based on what the cdc says on benefits of drinking water but with no words \n",
    "\n",
    "    ''',\n",
    "    size=\"1024x1792\",\n",
    "    quality=\"standard\",\n",
    "    n=1,\n",
    ")\n",
    "image_url = response.data[0].url"
   ]
  },
  {
   "cell_type": "code",
   "execution_count": null,
   "id": "85b2a040-c55b-4b80-8618-6fc6171ed592",
   "metadata": {},
   "outputs": [],
   "source": [
    "image_url"
   ]
  },
  {
   "cell_type": "code",
   "execution_count": null,
   "id": "ed922459-e03d-4565-bcd2-7632b534187b",
   "metadata": {},
   "outputs": [],
   "source": [
    "from openai import OpenAI\n",
    "client = OpenAI()\n",
    "\n",
    "response = client.images.generate(\n",
    "    model=\"dall-e-3\",\n",
    "    prompt= '''\n",
    "\n",
    "Generate a informational poster about the importance of staying hydrated based on what the cdc says on benefits of drinking water but with no words for children  \n",
    "\n",
    "    ''',\n",
    "    size=\"1024x1792\",\n",
    "    quality=\"standard\",\n",
    "    n=1,\n",
    ")\n",
    "image_url = response.data[0].url"
   ]
  },
  {
   "cell_type": "code",
   "execution_count": null,
   "id": "75129ed0-8cf7-45cf-b7c7-84e5b61436a5",
   "metadata": {},
   "outputs": [],
   "source": [
    "image_url"
   ]
  },
  {
   "cell_type": "markdown",
   "id": "e88d8781-5c59-4ca9-af1b-9a9f1e84cc4b",
   "metadata": {},
   "source": [
    "## Process of evaluating the words that would go on the poster \n",
    "\n",
    "We started off by using chat GPT 3.5 with :\n",
    "\n",
    "system_role = \"You're a health proessional with vast knowledge on hydration\"\n",
    "initial_prompt = '''come up with most important things for a hydration campain'''\n",
    "\n",
    "# Response\n",
    "Hydration Campaign: Key Components\n",
    "\n",
    "Education on Hydration Importance: Clearly communicate the significance of hydration for overall health and well-being. Highlight how proper hydration impacts various bodily functions, from cognitive performance to physical endurance.\n",
    "Water Consumption Guidelines: Provide easy-to-understand guidelines on daily water intake tailored to different age groups, activity levels, and environmental conditions. Emphasize the importance of listening to one's body and recognizing signs of dehydration.\n",
    "\n",
    "Hydration Myths Debunking: Address common misconceptions surrounding hydration, such as relying solely on thirst as an indicator of hydration status or the belief that only strenuous exercise requires increased fluid intake.\n",
    "Encouraging Water Consumption Habits: Offer practical tips and strategies to incorporate more water into daily routines, such as keeping a water bottle handy, setting hydration reminders, and flavoring water with fruits or herbs for added enjoyment.\n",
    "\n",
    "Promotion of Balanced Electrolyte Intake: Highlight the role of electrolytes in hydration and encourage the consumption of electrolyte-rich foods and beverages, particularly for individuals engaged in prolonged physical activity or exposed to extreme heat.\n",
    "\n",
    "Awareness of Hydration Sources: Educate on the various sources of hydration beyond plain water, including fruits, vegetables, herbal teas, and broths, to diversify fluid intake and enhance overall nutrient intake.\n",
    "Hydration and Medical Conditions: Provide guidance for individuals with specific medical conditions that may impact hydration needs, such as diabetes, kidney disease, or gastrointestinal disorders, ensuring they manage hydration effectively under medical supervision.\n",
    "Environmental Impact of Hydration Choices: Raise awareness of the environmental consequences of single-use plastic bottles and promote eco-friendly alternatives such as reusable bottles and water filtration systems.\n",
    "Community Engagement and Support: Foster a sense of community around hydration goals through social media campaigns, challenges, and local events. Encourage peer support and accountability in maintaining healthy hydration habits.\n",
    "Continuous Monitoring and Evaluation: Implement mechanisms to track the effectiveness of the hydration campaign, such as surveys, hydration assessments, and monitoring hydration-related health outcomes, to refine strategies and ensure long-term success.\n",
    "\n",
    "By integrating these key components into a comprehensive hydration campaign, we can empower individuals to prioritize hydration as a fundamental aspect of their daily health routine, leading to improved overall well-being and performance.\n"
   ]
  },
  {
   "cell_type": "markdown",
   "id": "be96a786-0081-4110-a3f8-13865b36eb0b",
   "metadata": {},
   "source": [
    "Then again we asked a similar set of questions: \n",
    "\n",
    "come up with most important things for a hydration campaign \n",
    "\n",
    "# Response from Chat GPT 3.5\n",
    "Hydration Campaign Essentials:\n",
    "\n",
    "Clear Messaging: Develop concise and engaging communication materials that emphasize the importance of hydration for health and performance.\n",
    "\n",
    "Targeted Education: Tailor educational resources to different demographics, including children, athletes, seniors, and individuals with medical conditions.\n",
    "\n",
    "Practical Tips: Provide actionable advice on how to stay hydrated throughout the day, such as carrying a reusable water bottle, setting hydration reminders, and choosing hydrating foods.\n",
    "\n",
    "Hydration Tracking Tools: Offer tools like hydration apps or journals to help individuals monitor their fluid intake and recognize patterns in their hydration habits.\n",
    "\n",
    "Community Involvement: Foster a sense of community by organizing hydration challenges, workshops, or online forums where participants can share tips and support each other.\n",
    "\n",
    "Partnerships: Collaborate with schools, workplaces, sports teams, healthcare providers, and community organizations to reach a wider audience and reinforce hydration messages.\n",
    "\n",
    "Visual Reminders: Use visual cues like posters, infographics, and social media graphics to reinforce key hydration messages in easily digestible formats.\n",
    "\n",
    "Hydration Stations: Set up hydration stations in public spaces, schools, and workplaces with access to clean drinking water and educational materials.\n",
    "\n",
    "Incentives and Rewards: Offer incentives such as water bottles, hydration trackers, or discounts at local businesses to motivate participation in the campaign.\n",
    "\n",
    "Evaluation and Feedback: Regularly assess the effectiveness of the campaign through surveys, focus groups, and hydration assessments to make adjustments and improve outcomes over time.\n",
    "\n",
    "By prioritizing these key elements, a hydration campaign can effectively raise awareness, educate, and empower individuals to make healthier hydration choices in their daily lives."
   ]
  },
  {
   "cell_type": "markdown",
   "id": "37f4e719-dbd3-43fc-9411-f4b041b1ee2e",
   "metadata": {},
   "source": [
    "# Again I asked for chat GPT to answer a similar command:\n",
    "\n",
    "Come up with most important things for a hydration campaign\n",
    "\n",
    "Essential Components for a Hydration Campaign:\n",
    "\n",
    "Education on Hydration: Provide comprehensive information on the importance of hydration for overall health, including its impact on physical and cognitive performance, metabolism, and organ function.\n",
    "\n",
    "Hydration Guidelines: Offer clear recommendations on daily fluid intake tailored to different age groups, genders, activity levels, and environmental conditions.\n",
    "\n",
    "Symptoms of Dehydration: Educate individuals on the signs and symptoms of dehydration, such as dry mouth, fatigue, dizziness, and dark urine, to help them recognize when they need to increase their fluid intake.\n",
    "\n",
    "Hydration Tracking Tools: Develop tools such as hydration apps or charts to help individuals track their daily fluid intake and ensure they meet their hydration goals.\n",
    "\n",
    "Accessible Water Sources: Advocate for access to clean drinking water in public spaces, schools, workplaces, and recreational areas to make it easier for people to stay hydrated throughout the day.\n",
    "\n",
    "Hydration Promotion in Schools: Partner with schools to incorporate hydration education into the curriculum and encourage the availability of water fountains or hydration stations.\n",
    "\n",
    "Workplace Hydration Initiatives: Collaborate with employers to implement workplace hydration programs, including providing access to water coolers or dispensers, offering hydration breaks, and promoting hydration-friendly policies.\n",
    "\n",
    "Community Engagement: Engage local communities through workshops, events, social media campaigns, and community partnerships to raise awareness about the importance of hydration.\n",
    "\n",
    "Cultural Sensitivity: Recognize cultural preferences and practices related to hydration and tailor the campaign messaging and strategies accordingly to ensure inclusivity.\n",
    "\n",
    "Long-Term Sustainability: Develop strategies to sustain interest and participation in hydration promotion beyond the campaign period, such as integrating hydration messages into ongoing health initiatives and community programs.\n",
    "\n",
    "By incorporating these essential components into a hydration campaign, it can effectively raise awareness, educate individuals, and promote healthy hydration habits for long-term well-being.\n"
   ]
  },
  {
   "cell_type": "markdown",
   "id": "a95b7fb9-9a54-4629-9c7e-ad2d436f26bb",
   "metadata": {},
   "source": [
    "# Prompting more questions \n",
    "\n",
    "We moved on to prompting chat GPT to come up with slogans and information that would be seen on an informational poster: \n",
    "From the thing listed above, make the most important ones stuff that would go on an informational poster \n",
    "\n",
    "Response Hydration Informational Poster:\n",
    "\n",
    "Importance of Hydration: Highlighting how staying hydrated is crucial for overall health, including physical and cognitive performance.\n",
    "\n",
    "Hydration Guidelines: Clear recommendations for daily fluid intake based on age, activity level, and environmental factors.\n",
    "\n",
    "Recognizing Dehydration: Illustrating common signs and symptoms of dehydration to encourage prompt action.\n",
    "\n",
    "Accessible Water Sources: Promoting the availability of clean drinking water in public spaces, schools, and workplaces.\n",
    "\n",
    "Community Engagement: Encouraging involvement in hydration workshops, events, and social media campaigns.\n",
    "\n",
    "These key points effectively convey essential information about hydration and encourage individuals to prioritize their \n",
    "\n",
    "fluid intake for optimal health and well-being.\n",
    "\n"
   ]
  },
  {
   "cell_type": "markdown",
   "id": "a07e1471-5fba-4df2-b852-91ac2e8e9718",
   "metadata": {},
   "source": [
    "# Next steps \n",
    "\n",
    "We wanted the information to be a bit more factual and have some numbers so that people would understand what they needed to drink in order to stay healthy \n",
    "Prompt: Add in factual numbers about hydration for the poster\n",
    "\n",
    "Response \n",
    "Hydration Informational Poster:\n",
    "\n",
    "Importance of Hydration: \"Did you know? Staying hydrated is vital for your health! Water helps regulate body temperature, cushion joints, and aids in digestion. Stay refreshed to feel your best!\"\n",
    "\n",
    "Hydration Guidelines: \"Stay on track with hydration! Recommended daily fluid intake varies: for adults, aim for about 8-10 cups (about 2-2.5 liters) of fluids per day, depending on factors like age and activity level.\"\n",
    "\n",
    "Recognizing Dehydration: \"Don't ignore the signs! Symptoms of dehydration include thirst, dry mouth, fatigue, dizziness, and dark urine. Act fast to replenish fluids!\"\n",
    "\n",
    "Accessible Water Sources: \"Hydration on the go! Access clean drinking water easily at public fountains, hydration stations, and workplaces. Keep a reusable water bottle handy for hydration anytime, anywhere.\"\n",
    "\n",
    "Community Engagement: \"Join the movement! Engage with us through workshops, events, and social media campaigns to learn more about hydration and stay motivated on your journey to better health!\"\n",
    "\n",
    "These factual numbers and key points serve to inform and motivate individuals to prioritize hydration for their overall well-being."
   ]
  },
  {
   "cell_type": "markdown",
   "id": "68f8e275-1cbd-409d-8641-e89ac5d5984d",
   "metadata": {},
   "source": [
    "# Slogan creation \n",
    "\n",
    "We wanted to have some things pop out as titles for the posters to get people's attention so we prompted a question based off of the previous information that was provided before:\n",
    "That's good but can you make them short 5 worded things that would go on the poster. \n",
    "\n",
    "\n",
    "Hydration Vital for Health!\n",
    "\n",
    "Drink 8-10 Cups Daily!\n",
    "\n",
    "Recognize Signs, Act Fast!\n",
    "\n",
    "Water Access Everywhere, Anytime!\n",
    "\n",
    "Join Us, Stay Hydrated Together!"
   ]
  }
 ],
 "metadata": {
  "citation-manager": {
   "items": {}
  },
  "kernelspec": {
   "display_name": "Python 3.8",
   "language": "python",
   "name": "python3"
  },
  "language_info": {
   "codemirror_mode": {
    "name": "ipython",
    "version": 3
   },
   "file_extension": ".py",
   "mimetype": "text/x-python",
   "name": "python",
   "nbconvert_exporter": "python",
   "pygments_lexer": "ipython3",
   "version": "3.8.8"
  }
 },
 "nbformat": 4,
 "nbformat_minor": 5
}

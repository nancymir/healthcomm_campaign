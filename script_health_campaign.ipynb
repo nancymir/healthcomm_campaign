{
 "cells": [
  {
   "cell_type": "markdown",
   "id": "a6f29d7f-ce20-4865-af58-f5881ee5f8bc",
   "metadata": {},
   "source": [
    "# Health Communication Messaging Campaign: Script"
   ]
  },
  {
   "cell_type": "markdown",
   "id": "b89a2d7e-fb6c-46e1-92c3-b4f8b7df1864",
   "metadata": {},
   "source": [
    "## Generating a 30 Second Video Script with `gpt-4` that stresses the importance of drinking water and staying hydrating"
   ]
  },
  {
   "cell_type": "markdown",
   "id": "b8e596d3-e222-48ff-8eb2-78348df0c5d6",
   "metadata": {},
   "source": [
    "### Setup"
   ]
  },
  {
   "cell_type": "code",
   "execution_count": 36,
   "id": "8657c5ec-d4fc-4b07-b740-74e207e2c586",
   "metadata": {},
   "outputs": [],
   "source": [
    "from openai import OpenAI\n",
    "import os\n",
    "import pandas as pd"
   ]
  },
  {
   "cell_type": "markdown",
   "id": "bd4fa82f-42e3-413e-a392-69b1140e6276",
   "metadata": {},
   "source": [
    "### apikey"
   ]
  },
  {
   "cell_type": "code",
   "execution_count": 37,
   "id": "5d5076ae-212b-41b0-97a5-0ff06b8c8f2f",
   "metadata": {},
   "outputs": [],
   "source": [
    "apikey = open('.apikey').read().strip()\n",
    "os.environ['OPENAI_API_KEY'] = apikey"
   ]
  },
  {
   "cell_type": "markdown",
   "id": "8584be80-25d1-423f-875b-0f4cc2e8307d",
   "metadata": {},
   "source": [
    "### gpt setup"
   ]
  },
  {
   "cell_type": "code",
   "execution_count": 26,
   "id": "45ef7e5f-b907-4f0c-b01b-ea9437954503",
   "metadata": {},
   "outputs": [],
   "source": [
    "model = \"gpt-4\"\n",
    "system_role = \"A marketing professional in the advertisement field.\"\n",
    "initial_prompt = '''\n",
    "        \n",
    "        Make a 30 second humurous script for a video targeting Gen Z and Millenial audiences that encourages\n",
    "        people to drink water and stay hydrated throughout the day. This script is one video out\n",
    "        of a series of hydration campaigns conveying the same message in different styles.\n",
    "        In this specific script depict a group of teenagers hiking the Appalachian Trail,\n",
    "        with one of the teenagers obviously struggling and on the verge of passing out.\n",
    "        They are cranky and want to leave. The friends then say somehting along the lines of\n",
    "        \"Here, have some water.\" They hand them the water and its apparent quenching qualities\n",
    "        immediately uplift the teenager's energy and is now determined to finish the trail.\n",
    "\n",
    "        Immitate the style of Snicker's ads.\n",
    "    \n",
    "        '''\n",
    "\n",
    "messages = [\n",
    "    {\"role\": \"system\", \"content\": system_role} ,\n",
    "    {\"role\": \"user\", \"content\": initial_prompt}\n",
    "    #{\"role\": \"assistant\", \"content\": system_role },\n",
    "    # {\"role\": \"user\", \"content\": \"\" }\n",
    "]"
   ]
  },
  {
   "cell_type": "code",
   "execution_count": 27,
   "id": "6cbf8120-61ce-4538-822b-09e9b21743f7",
   "metadata": {},
   "outputs": [],
   "source": [
    "client = OpenAI()\n",
    "\n",
    "completion = client.chat.completions.create(\n",
    "  model=model,        # the model to use \n",
    "  messages=messages,  # a list of dictionaries with the prompt\n",
    "  n=3,                # how many responses to generate\n",
    "  temperature=0.7     # temperature parameter\n",
    ")\n",
    "\n",
    "response = completion.choices[0].message.content"
   ]
  },
  {
   "cell_type": "markdown",
   "id": "b98de7c3-5d3d-414a-bb09-04a2fa2c8203",
   "metadata": {},
   "source": [
    "### print response"
   ]
  },
  {
   "cell_type": "code",
   "execution_count": 5,
   "id": "29b555b6-044a-4219-91f5-73fdc860635b",
   "metadata": {},
   "outputs": [
    {
     "name": "stdout",
     "output_type": "stream",
     "text": [
      "(Opening scene: A group of teenagers hiking the Appalachian Trail. One teenager, we'll call him Josh, is obviously struggling and on the verge of passing out.)\n",
      "\n",
      "Narrator (Voiceover): \"You're not you when you're thirsty.\"\n",
      "\n",
      "(Josh is cranky, complaining, and wants to leave)\n",
      "\n",
      "Josh: \"Guys, I can't do this. I'm done. I'm out.\"\n",
      "\n",
      "(Friends stop and look at him, then one of them pulls out a bottle of water)\n",
      "\n",
      "Friend 1: \"Josh, you need to hydrate, dude. Have some water.\"\n",
      "\n",
      "(Josh takes the water, drinks it. A dramatic transformation takes place.)\n",
      "\n",
      "Narrator (Voiceover): \"Stay hydrated. Stay you.\"\n",
      "\n",
      "(Josh's energy is immediately uplifted. He's now determined and leads the group up the trail)\n",
      "\n",
      "Josh (Excitedly): \"Come on, guys! We've got a trail to finish!\"\n",
      "\n",
      "(Ending scene: The group of friends follows Josh, laughing and joking together)\n",
      "\n",
      "Narrator (Voiceover): \"Water. It's not just about quenching your thirst. It's about quenching your spirit.\"\n",
      "\n",
      "(On-screen text: \"Stay Hydrated. Stay You.\")\n",
      "\n",
      "End of video.\n",
      "\n",
      "FADE IN:\n",
      "\n",
      "EXT. APPALACHIAN TRAIL - DAY\n",
      "\n",
      "A group of TEENAGERS, all energetic and lively, are hiking the trail, laughing and enjoying themselves. Except for one, JORDAN (18), who is obviously out of sorts, face red and sweaty, panting heavily. \n",
      "\n",
      "CUT TO:\n",
      "\n",
      "Jordan's POV. Everything starts to blur, and the sound of his friends' laughter becomes distant.\n",
      "\n",
      "CUT BACK:\n",
      "\n",
      "Jordan stumbles, looking ready to pass out. His friends stop and turn to him. \n",
      "\n",
      "FRIEND 1\n",
      "(Concerned)\n",
      "Dude, you okay?\n",
      "\n",
      "JORDAN\n",
      "(Grumbles)\n",
      "I hate hiking... I wanna go home.\n",
      "\n",
      "The friends exchange glances. Friend 2, smirking, pulls out a BOTTLE OF WATER from his backpack. \n",
      "\n",
      "FRIEND 2\n",
      "(Laughs)\n",
      "Jordan, you're not you when you're dehydrated. \n",
      "\n",
      "He hands over the water to Jordan who gulps it down. Almost instantly, his eyes brighten, his energy returns, and he's back to his old self. \n",
      "\n",
      "JORDAN\n",
      "(Energetic)\n",
      "Alright, let's finish this trail!\n",
      "\n",
      "NARRATOR (V.O)\n",
      "Stay hydrated with H20. Because you're not you when you're dehydrated.\n",
      "\n",
      "FADE OUT.\n",
      "\n",
      "(Opening shot: A group of teens hiking the Appalachian Trail. One of them, let's call him Mike, is lagging behind, panting and sweating profusely.)\n",
      "\n",
      "Narrator: (Voiceover) \"Ever feel like you're dragging your body up a mountain?\"\n",
      "\n",
      "(Mike trips over a rock, friends laugh.)\n",
      "\n",
      "Narrator: (Voiceover) \"Like you’re not you when you’re dehydrated?\"\n",
      "\n",
      "(Mike scowls, sits on a rock, and crosses his arms.)\n",
      "\n",
      "Friend 1: (Teasing Mike) \"You're not you when you're thirsty, Mike.\"\n",
      "\n",
      "Friend 2: (Pulls out a bottle of water) \"Here, have some water.\"\n",
      "\n",
      "(Mike drinks the water and suddenly his energy returns. He jumps up, full of enthusiasm.)\n",
      "\n",
      "Narrator: (Voiceover, imitating Snickers’ slogan) \"Water: because you’re not you when you're thirsty.\"\n",
      "\n",
      "(Mike takes the lead, friends follow laughing.)\n",
      "\n",
      "Narrator: (Voiceover) \"Stay hydrated, stay you.\"\n",
      "\n",
      "(Close with a shot of water bottle in Mike's hand, logo of the campaign.)\n",
      "\n",
      "Narrator: (Voiceover) \"Join the Hydration Nation.\"\n",
      "\n",
      "(End of video)\n",
      "\n"
     ]
    }
   ],
   "source": [
    "for choice in completion.choices:\n",
    "    print(choice.message.content)\n",
    "    print()"
   ]
  },
  {
   "cell_type": "code",
   "execution_count": 50,
   "id": "99b5c7bf-f226-47a8-a6f4-8de796be8ea9",
   "metadata": {},
   "outputs": [],
   "source": [
    "model = \"gpt-4\"\n",
    "system_role = \"You are a marketing professional in the advertisement field.\"\n",
    "\n",
    "initial_prompt = '''\n",
    "\n",
    "Given this 30 second script, split into a number of scenes.\n",
    "        \n",
    "FADE IN:\n",
    "\n",
    "EXT. APPALACHIAN TRAIL - DAY\n",
    "\n",
    "A group of TEENAGERS, all energetic and lively, are hiking the trail, laughing and enjoying themselves. Except for one, JORDAN (18), who is obviously out of sorts, face red and sweaty, panting heavily. \n",
    "\n",
    "CUT TO:\n",
    "\n",
    "Jordan's POV. Everything starts to blur, and the sound of his friends' laughter becomes distant.\n",
    "\n",
    "CUT BACK:\n",
    "\n",
    "Jordan stumbles, looking ready to pass out. His friends stop and turn to him. \n",
    "\n",
    "FRIEND 1\n",
    "(Concerned)\n",
    "Dude, you okay?\n",
    "\n",
    "JORDAN\n",
    "(Grumbles)\n",
    "I hate hiking... I wanna go home.\n",
    "\n",
    "The friends exchange glances. Friend 2, smirking, pulls out a BOTTLE OF WATER from his backpack. \n",
    "\n",
    "FRIEND 2\n",
    "(Laughs)\n",
    "Jordan, you're not you when you're dehydrated. \n",
    "\n",
    "He hands over the water to Jordan who gulps it down. Almost instantly, his eyes brighten, his energy returns, and he's back to his old self. \n",
    "\n",
    "JORDAN\n",
    "(Energetic)\n",
    "Alright, let's finish this trail!\n",
    "\n",
    "NARRATOR (V.O)\n",
    "Stay hydrated with H20. Because you're not you when you're dehydrated.\n",
    "\n",
    "FADE OUT.\n",
    "    \n",
    "        '''\n",
    "\n",
    "messages = [\n",
    "    {\"role\": \"system\", \"content\": system_role} ,\n",
    "    {\"role\": \"user\", \"content\": initial_prompt}\n",
    "    ##{\"role\": \"assistant\", \"content\": system_role },\n",
    "    ##{\"role\": \"user\", \"content\": \"\" }\n",
    "]"
   ]
  },
  {
   "cell_type": "code",
   "execution_count": 51,
   "id": "d7c57306-093e-4673-946e-37813fd4bb3a",
   "metadata": {},
   "outputs": [
    {
     "data": {
      "text/plain": [
       "'You are a marketing professional in the advertisement field.'"
      ]
     },
     "execution_count": 51,
     "metadata": {},
     "output_type": "execute_result"
    }
   ],
   "source": [
    "system_role"
   ]
  },
  {
   "cell_type": "code",
   "execution_count": 43,
   "id": "eaa6e06e-d2be-4473-a4b9-6756846b6b43",
   "metadata": {},
   "outputs": [],
   "source": [
    "client = OpenAI()\n",
    "\n",
    "completion = client.chat.completions.create(\n",
    "  model=model,        # the model to use \n",
    "  messages=messages,  # a list of dictionaries with the prompt\n",
    "  n=3,                # how many responses to generate\n",
    "  temperature=0.7     # temperature parameter\n",
    ")\n",
    "\n",
    "response = completion.choices[0].message.content"
   ]
  },
  {
   "cell_type": "code",
   "execution_count": 45,
   "id": "e04752b6-efd6-4833-8925-574db3120aff",
   "metadata": {},
   "outputs": [
    {
     "name": "stdout",
     "output_type": "stream",
     "text": [
      "Scene 1: \n",
      "FADE IN: \n",
      "\n",
      "EXT. APPALACHIAN TRAIL - DAY\n",
      "\n",
      "A group of TEENAGERS, all energetic and lively, are hiking the trail, laughing and enjoying themselves. Except for one, JORDAN (18), who is obviously out of sorts, face red and sweaty, panting heavily. \n",
      "\n",
      "Scene 2:\n",
      "CUT TO:\n",
      "\n",
      "Jordan's POV. Everything starts to blur, and the sound of his friends' laughter becomes distant.\n",
      "\n",
      "Scene 3:\n",
      "CUT BACK:\n",
      "\n",
      "Jordan stumbles, looking ready to pass out. His friends stop and turn to him. \n",
      "\n",
      "Scene 4:\n",
      "FRIEND 1\n",
      "(Concerned)\n",
      "Dude, you okay?\n",
      "\n",
      "JORDAN\n",
      "(Grumbles)\n",
      "I hate hiking... I wanna go home.\n",
      "\n",
      "Scene 5:\n",
      "The friends exchange glances. Friend 2, smirking, pulls out a BOTTLE OF WATER from his backpack. \n",
      "\n",
      "Scene 6:\n",
      "FRIEND 2\n",
      "(Laughs)\n",
      "Jordan, you're not you when you're dehydrated. \n",
      "\n",
      "He hands over the water to Jordan who gulps it down. \n",
      "\n",
      "Scene 7:\n",
      "Almost instantly, his eyes brighten, his energy returns, and he's back to his old self. \n",
      "\n",
      "JORDAN\n",
      "(Energetic)\n",
      "Alright, let's finish this trail!\n",
      "\n",
      "Scene 8:\n",
      "NARRATOR (V.O)\n",
      "Stay hydrated with H20. Because you're not you when you're dehydrated.\n",
      "\n",
      "FADE OUT.\n"
     ]
    }
   ],
   "source": [
    "print(response)"
   ]
  },
  {
   "cell_type": "code",
   "execution_count": null,
   "id": "9c119b8c-45c7-4793-9979-48a149747c8b",
   "metadata": {},
   "outputs": [],
   "source": []
  }
 ],
 "metadata": {
  "citation-manager": {
   "items": {}
  },
  "kernelspec": {
   "display_name": "Python 3.11 (COMM4190)",
   "language": "python",
   "name": "comm4190"
  },
  "language_info": {
   "codemirror_mode": {
    "name": "ipython",
    "version": 3
   },
   "file_extension": ".py",
   "mimetype": "text/x-python",
   "name": "python",
   "nbconvert_exporter": "python",
   "pygments_lexer": "ipython3",
   "version": "3.11.7"
  }
 },
 "nbformat": 4,
 "nbformat_minor": 5
}
